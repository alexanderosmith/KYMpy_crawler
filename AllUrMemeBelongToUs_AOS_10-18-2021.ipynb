{
 "cells": [
  {
   "cell_type": "markdown",
   "id": "b89d0417",
   "metadata": {},
   "source": [
    "# AllUrMemeBelongToUs: A Know Your Meme Gallery Scraper\n",
    "\n",
    "- Author: Alexander O. Smith\n",
    "- Date Created: 15 Oct, 2021\n",
    "- Date Updated: 17 Oct, 2021\n",
    "\n",
    "This code was developed to scrape images from the Know Your Meme website by meme name."
   ]
  },
  {
   "cell_type": "code",
   "execution_count": 45,
   "id": "d57d78e9",
   "metadata": {},
   "outputs": [],
   "source": [
    "from bs4 import BeautifulSoup as bs  #To Output Clean HTML files (and general scraping)\n",
    "from lxml import html, etree         #For XPath\n",
    "from io import StringIO, BytesIO\n",
    "from urllib.request import Request, urlopen\n",
    "import urllib.request\n",
    "import os\n",
    "import re"
   ]
  },
  {
   "cell_type": "code",
   "execution_count": 55,
   "id": "5ce2c192",
   "metadata": {},
   "outputs": [],
   "source": [
    "# Set up url connection with BeautifulSoup\n",
    "url = 'https://knowyourmeme.com/memes/slaps-roof-of-car/photos/page/2'\n",
    "req = Request(url, headers={'User-Agent': 'Mozilla/5.0'}) #this is how I stopped getting 403 error responses.\n",
    "webpage = urlopen(req).read()\n",
    "soup = bs(webpage, 'html.parser')"
   ]
  },
  {
   "cell_type": "code",
   "execution_count": 56,
   "id": "0bf446fc",
   "metadata": {},
   "outputs": [],
   "source": [
    "# Load webpage into ELement Tree format for XPath search\n",
    "root = etree.HTML(webpage)\n",
    "result = etree.tostring(root, pretty_print=True, method=\"html\")\n",
    "# XPath to the photo gallery images' URLs on the webpage\n",
    "imgs = root.xpath(\"//a[@rel='photo_gallery']//img[@data-src]/@data-src\")\n",
    "\n",
    "# Regex the urls in order to find the larger format image\n",
    "imgs_lrg = []\n",
    "for i in imgs:\n",
    "    i = re.sub('masonry', 'newsfeed', i)\n",
    "    imgs_lrg.append(i) \n",
    "\n",
    "    # Make image ID & file name\n",
    "    i2 = i.partition(\"newsfeed/\")[2]\n",
    "    img_file = re.sub('/', '_',i2)\n",
    "    img_ID = img_file.partition('.')[0]\n",
    "    img_loc = 'slaps-roof-of-car-meme'\n",
    "    os.makedirs(f'./GoogleVisionAITestData/{img_loc}', exist_ok=True)\n",
    "    urllib.request.urlretrieve(i, f'./GoogleVisionAITestData/slaps-roof-of-car-meme/{img_file}')"
   ]
  },
  {
   "cell_type": "code",
   "execution_count": null,
   "id": "bcca31fa",
   "metadata": {},
   "outputs": [],
   "source": [
    "# Set up url connection with BeautifulSoup\n",
    "url = 'https://knowyourmeme.com/memes/slaps-roof-of-car/photos/page/2'\n",
    "req = Request(url, headers={'User-Agent': 'Mozilla/5.0'}) #this is how I stopped getting 403 error responses.\n",
    "webpage = urlopen(req).read()\n",
    "soup = bs(webpage, 'html.parser')\n",
    "\n",
    "# Load webpage into ELement Tree format for XPath search\n",
    "root = etree.HTML(webpage)\n",
    "result = etree.tostring(root, pretty_print=True, method=\"html\")\n",
    "# XPath to the photo gallery images' URLs on the webpage\n",
    "imgs = root.xpath(\"//a[@rel='photo_gallery']//img[@data-src]/@data-src\")\n",
    "\n",
    "# Regex the urls in order to find the larger format image\n",
    "imgs_lrg = []\n",
    "for i in imgs:\n",
    "    i = re.sub('masonry', 'newsfeed', i)\n",
    "    imgs_lrg.append(i) \n",
    "\n",
    "    # Make image ID & file name\n",
    "    i2 = i.partition(\"newsfeed/\")[2]\n",
    "    img_file = re.sub('/', '_',i2)\n",
    "    img_ID = img_file.partition('.')[0]\n",
    "    img_loc = 'slaps-roof-of-car-meme'\n",
    "    os.makedirs(f'./GoogleVisionAITestData/{img_loc}', exist_ok=True)\n",
    "    urllib.request.urlretrieve(i, f'./GoogleVisionAITestData/slaps-roof-of-car-meme/{img_file}')\n"
   ]
  },
  {
   "cell_type": "code",
   "execution_count": 78,
   "id": "291cb2a1",
   "metadata": {},
   "outputs": [],
   "source": [
    "def kym_url_name(name):\n",
    "    name = re.sub('\\s', '-', str(name))\n",
    "    memeURL = f'https://knowyourmeme.com/memes/{name}/photos/'\n",
    "    #print(memeURL)\n",
    "    return memeURL, name\n",
    "    # Might require some exceptions and error handling based on url structures on kym.\n",
    "#url1 = kym_url_name('slaps roof of car')"
   ]
  },
  {
   "cell_type": "code",
   "execution_count": 114,
   "id": "b4fa5e57",
   "metadata": {},
   "outputs": [],
   "source": [
    "def kym_img_pull(name):\n",
    "    # Set up url connection with BeautifulSoup\n",
    "    name = re.sub('\\s', '-', str(name))\n",
    "    print(name)\n",
    "    n = 1\n",
    "    memeURL = f'https://knowyourmeme.com/memes/{name}/photos/page/6'\n",
    "    print(memeURL)\n",
    "    req = Request(str(memeURL), headers={'User-Agent': 'Mozilla/5.0'}) #this is how I stopped getting 403 error responses.\n",
    "    webpage = urlopen(req).read()\n",
    "    soup = bs(webpage, 'html.parser')\n",
    "    \n",
    "    # Load webpage into ELement Tree format for XPath search\n",
    "    root = etree.HTML(webpage)\n",
    "    result = etree.tostring(root, pretty_print=True, method=\"html\")\n",
    "    # XPath to the photo gallery images' URLs on the webpage\n",
    "    imgs = root.xpath(\"//a[@rel='photo_gallery']//img[@data-src]/@data-src\")\n",
    "    print(len(imgs))\n",
    "    # Regex the urls in order to find the larger format image\n",
    "    imgs_lrg = []\n",
    "    for i in imgs:\n",
    "        i = re.sub('masonry', 'newsfeed', i)\n",
    "        imgs_lrg.append(i) \n",
    "        print(i)\n",
    "        # Make image ID & file name\n",
    "        i2 = i.partition(\"newsfeed/\")[2]\n",
    "        img_file = re.sub('/', '_',i2)\n",
    "        print(img_file)\n",
    "        img_ID = img_file.partition('.')[0]\n",
    "        img_loc = f'{str(name)}-meme'\n",
    "        os.makedirs(f'./GCV_FuncTestData/{img_loc}', exist_ok=True)\n",
    "        urllib.request.urlretrieve(i, f'./GCV_FuncTestData/{str(name)}-meme/{img_file}')\n",
    "# TO-DO:\n",
    "# 1. \"Scroll\" by finding a way to loop the url through pages This will involve stopping the \n",
    "# loop once we hit a page with no photos in the photo gallery. Also this might involve \n",
    "# having to build a sleep command among a few other preventative measures into the loop.\n",
    "# 2. Check for additional metadata that might be useful for each img on the site. Put\n",
    "# this into a csv.\n",
    "# 3. I'm getting an IsADirectoryError on page 6 of slaps roof of car. It looks like it's\n",
    "# because it's a spoiler image."
   ]
  },
  {
   "cell_type": "code",
   "execution_count": 113,
   "id": "ffaa8782",
   "metadata": {},
   "outputs": [
    {
     "name": "stdout",
     "output_type": "stream",
     "text": [
      "slaps-roof-of-car\n",
      "https://knowyourmeme.com/memes/slaps-roof-of-car/photos/page/6\n",
      "20\n",
      "https://i.kym-cdn.com/photos/images/newsfeed/001/392/925/afc.png\n",
      "001_392_925_afc.png\n",
      "https://i.kym-cdn.com/photos/images/newsfeed/001/392/842/5e0\n",
      "001_392_842_5e0\n",
      "https://i.kym-cdn.com/photos/images/newsfeed/001/392/333/bf7.png\n",
      "001_392_333_bf7.png\n",
      "https://i.kym-cdn.com/photos/images/newsfeed/001/392/239/bad.jpg\n",
      "001_392_239_bad.jpg\n",
      "https://i.kym-cdn.com/photos/images/newsfeed/001/392/146/3d3.jpg_large\n",
      "001_392_146_3d3.jpg_large\n",
      "https://i.kym-cdn.com/photos/images/newsfeed/001/392/138/189.jpg\n",
      "001_392_138_189.jpg\n",
      "https://i.kym-cdn.com/photos/images/newsfeed/001/392/109/fdf.jpg\n",
      "001_392_109_fdf.jpg\n",
      "https://i.kym-cdn.com/photos/images/newsfeed/001/392/088/b15.png\n",
      "001_392_088_b15.png\n",
      "https://i.kym-cdn.com/photos/images/newsfeed/001/392/087/b62.png\n",
      "001_392_087_b62.png\n",
      "https://i.kym-cdn.com/photos/images/newsfeed/001/391/873/966.jpg\n",
      "001_391_873_966.jpg\n",
      "https://s.kym-cdn.com/assets/image-covers/spoiler-2228b9d31fe9ef711255fcb1daf72f9e.png\n",
      "\n"
     ]
    },
    {
     "ename": "IsADirectoryError",
     "evalue": "[Errno 21] Is a directory: './GCV_FuncTestData/slaps-roof-of-car-meme/'",
     "output_type": "error",
     "traceback": [
      "\u001b[0;31m---------------------------------------------------------------------------\u001b[0m",
      "\u001b[0;31mIsADirectoryError\u001b[0m                         Traceback (most recent call last)",
      "\u001b[0;32m<ipython-input-113-cd68280aa6b1>\u001b[0m in \u001b[0;36m<module>\u001b[0;34m\u001b[0m\n\u001b[0;32m----> 1\u001b[0;31m \u001b[0mkym_img_pull\u001b[0m\u001b[0;34m(\u001b[0m\u001b[0;34m'slaps roof of car'\u001b[0m\u001b[0;34m)\u001b[0m\u001b[0;34m\u001b[0m\u001b[0;34m\u001b[0m\u001b[0m\n\u001b[0m",
      "\u001b[0;32m<ipython-input-112-e2bf54e0938e>\u001b[0m in \u001b[0;36mkym_img_pull\u001b[0;34m(name)\u001b[0m\n\u001b[1;32m     29\u001b[0m         \u001b[0mimg_loc\u001b[0m \u001b[0;34m=\u001b[0m \u001b[0;34mf'{str(name)}-meme'\u001b[0m\u001b[0;34m\u001b[0m\u001b[0;34m\u001b[0m\u001b[0m\n\u001b[1;32m     30\u001b[0m         \u001b[0mos\u001b[0m\u001b[0;34m.\u001b[0m\u001b[0mmakedirs\u001b[0m\u001b[0;34m(\u001b[0m\u001b[0;34mf'./GCV_FuncTestData/{img_loc}'\u001b[0m\u001b[0;34m,\u001b[0m \u001b[0mexist_ok\u001b[0m\u001b[0;34m=\u001b[0m\u001b[0;32mTrue\u001b[0m\u001b[0;34m)\u001b[0m\u001b[0;34m\u001b[0m\u001b[0;34m\u001b[0m\u001b[0m\n\u001b[0;32m---> 31\u001b[0;31m         \u001b[0murllib\u001b[0m\u001b[0;34m.\u001b[0m\u001b[0mrequest\u001b[0m\u001b[0;34m.\u001b[0m\u001b[0murlretrieve\u001b[0m\u001b[0;34m(\u001b[0m\u001b[0mi\u001b[0m\u001b[0;34m,\u001b[0m \u001b[0;34mf'./GCV_FuncTestData/{str(name)}-meme/{img_file}'\u001b[0m\u001b[0;34m)\u001b[0m\u001b[0;34m\u001b[0m\u001b[0;34m\u001b[0m\u001b[0m\n\u001b[0m\u001b[1;32m     32\u001b[0m \u001b[0;31m# TO-DO:\u001b[0m\u001b[0;34m\u001b[0m\u001b[0;34m\u001b[0m\u001b[0;34m\u001b[0m\u001b[0m\n\u001b[1;32m     33\u001b[0m \u001b[0;31m# 1. \"Scroll\" by finding a way to loop the url through pages This will involve stopping the\u001b[0m\u001b[0;34m\u001b[0m\u001b[0;34m\u001b[0m\u001b[0;34m\u001b[0m\u001b[0m\n",
      "\u001b[0;32m~/anaconda3/envs/Research_env/lib/python3.7/urllib/request.py\u001b[0m in \u001b[0;36murlretrieve\u001b[0;34m(url, filename, reporthook, data)\u001b[0m\n\u001b[1;32m    255\u001b[0m         \u001b[0;31m# Handle temporary file setup.\u001b[0m\u001b[0;34m\u001b[0m\u001b[0;34m\u001b[0m\u001b[0;34m\u001b[0m\u001b[0m\n\u001b[1;32m    256\u001b[0m         \u001b[0;32mif\u001b[0m \u001b[0mfilename\u001b[0m\u001b[0;34m:\u001b[0m\u001b[0;34m\u001b[0m\u001b[0;34m\u001b[0m\u001b[0m\n\u001b[0;32m--> 257\u001b[0;31m             \u001b[0mtfp\u001b[0m \u001b[0;34m=\u001b[0m \u001b[0mopen\u001b[0m\u001b[0;34m(\u001b[0m\u001b[0mfilename\u001b[0m\u001b[0;34m,\u001b[0m \u001b[0;34m'wb'\u001b[0m\u001b[0;34m)\u001b[0m\u001b[0;34m\u001b[0m\u001b[0;34m\u001b[0m\u001b[0m\n\u001b[0m\u001b[1;32m    258\u001b[0m         \u001b[0;32melse\u001b[0m\u001b[0;34m:\u001b[0m\u001b[0;34m\u001b[0m\u001b[0;34m\u001b[0m\u001b[0m\n\u001b[1;32m    259\u001b[0m             \u001b[0mtfp\u001b[0m \u001b[0;34m=\u001b[0m \u001b[0mtempfile\u001b[0m\u001b[0;34m.\u001b[0m\u001b[0mNamedTemporaryFile\u001b[0m\u001b[0;34m(\u001b[0m\u001b[0mdelete\u001b[0m\u001b[0;34m=\u001b[0m\u001b[0;32mFalse\u001b[0m\u001b[0;34m)\u001b[0m\u001b[0;34m\u001b[0m\u001b[0;34m\u001b[0m\u001b[0m\n",
      "\u001b[0;31mIsADirectoryError\u001b[0m: [Errno 21] Is a directory: './GCV_FuncTestData/slaps-roof-of-car-meme/'"
     ]
    }
   ],
   "source": [
    "kym_img_pull('slaps roof of car')"
   ]
  },
  {
   "cell_type": "code",
   "execution_count": null,
   "id": "4c623f88",
   "metadata": {},
   "outputs": [],
   "source": []
  },
  {
   "cell_type": "code",
   "execution_count": null,
   "id": "9b95454c",
   "metadata": {},
   "outputs": [],
   "source": []
  },
  {
   "cell_type": "code",
   "execution_count": null,
   "id": "967f1dd6",
   "metadata": {},
   "outputs": [],
   "source": []
  },
  {
   "cell_type": "code",
   "execution_count": null,
   "id": "ebc81686",
   "metadata": {},
   "outputs": [],
   "source": []
  },
  {
   "cell_type": "code",
   "execution_count": null,
   "id": "cd33eec6",
   "metadata": {},
   "outputs": [],
   "source": []
  },
  {
   "cell_type": "code",
   "execution_count": 37,
   "id": "f3d31701",
   "metadata": {},
   "outputs": [
    {
     "name": "stdout",
     "output_type": "stream",
     "text": [
      "Meme Name:slaps roof of car\n"
     ]
    },
    {
     "data": {
      "text/plain": [
       "'https://knowyourmeme.com/memes/slaps-roof-of-car/photos/'"
      ]
     },
     "execution_count": 37,
     "metadata": {},
     "output_type": "execute_result"
    }
   ],
   "source": [
    "####################################################################################################\n",
    "# THE FINALIZED BITS ###############################################################################\n",
    "####################################################################################################\n",
    "# IMPORTS ##########################################################################################\n",
    "import re\n",
    "####################################################################################################\n",
    "meme = input('Meme Name:')\n",
    "\n",
    "# Know Your Meme URL ###############################################################################\n",
    "n = 1\n",
    "def kym_url_name(name):\n",
    "    name = re.sub('\\s', '-', name)\n",
    "    memeURL = f'https://knowyourmeme.com/memes/{name}/photos/page/{n}'\n",
    "    #print(memeURL)\n",
    "    return memeURL\n",
    "    # Might require some exceptions and error handling based on url structures on kym.\n",
    "kym_url_name(meme)\n",
    "\n",
    "# Other Sources Go Here ############################################################################\n"
   ]
  },
  {
   "cell_type": "code",
   "execution_count": null,
   "id": "6e9c7627",
   "metadata": {},
   "outputs": [],
   "source": []
  },
  {
   "cell_type": "code",
   "execution_count": null,
   "id": "39abf9ee",
   "metadata": {},
   "outputs": [],
   "source": []
  }
 ],
 "metadata": {
  "kernelspec": {
   "display_name": "Python 3",
   "language": "python",
   "name": "python3"
  },
  "language_info": {
   "codemirror_mode": {
    "name": "ipython",
    "version": 3
   },
   "file_extension": ".py",
   "mimetype": "text/x-python",
   "name": "python",
   "nbconvert_exporter": "python",
   "pygments_lexer": "ipython3",
   "version": "3.7.10"
  }
 },
 "nbformat": 4,
 "nbformat_minor": 5
}
